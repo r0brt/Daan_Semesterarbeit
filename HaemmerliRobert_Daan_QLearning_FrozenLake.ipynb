{
  "nbformat": 4,
  "nbformat_minor": 0,
  "metadata": {
    "colab": {
      "name": "Untitled1.ipynb",
      "version": "0.3.2",
      "provenance": [],
      "collapsed_sections": [],
      "include_colab_link": true
    },
    "kernelspec": {
      "name": "python3",
      "display_name": "Python 3"
    }
  },
  "cells": [
    {
      "cell_type": "markdown",
      "metadata": {
        "id": "view-in-github",
        "colab_type": "text"
      },
      "source": [
        "<a href=\"https://colab.research.google.com/github/r0brt/Daan_Semesterarbeit/blob/master/HaemmerliRobert_Daan_QLearning_FrozenLake.ipynb\" target=\"_parent\"><img src=\"https://colab.research.google.com/assets/colab-badge.svg\" alt=\"Open In Colab\"/></a>"
      ]
    },
    {
      "cell_type": "markdown",
      "metadata": {
        "id": "N3TiwnMWHDE9",
        "colab_type": "text"
      },
      "source": [
        "# Frozen Lake\n",
        "![alt text](http://deeplizard.com/images/frozen%20lake%20winter.jpg)"
      ]
    },
    {
      "cell_type": "markdown",
      "metadata": {
        "id": "eisSd85XHfyE",
        "colab_type": "text"
      },
      "source": [
        "### Setting up Frozen Lake\n"
      ]
    },
    {
      "cell_type": "markdown",
      "metadata": {
        "id": "J-DfGbl9Hooo",
        "colab_type": "text"
      },
      "source": [
        "#### Libraries"
      ]
    },
    {
      "cell_type": "code",
      "metadata": {
        "id": "9NL947AEHzUZ",
        "colab_type": "code",
        "colab": {}
      },
      "source": [
        "import numpy as np\n",
        "import gym\n",
        "import random\n",
        "import time\n",
        "from IPython.display import clear_output"
      ],
      "execution_count": 0,
      "outputs": []
    },
    {
      "cell_type": "markdown",
      "metadata": {
        "id": "M5lY4y65H0Ri",
        "colab_type": "text"
      },
      "source": [
        "#### Creating the environment\n",
        "\n",
        "Next, to create our environment, we just call gym.make() and pass a string of the name of the environment we want to set up. We'll be using the environment FrozenLake-v0. All the environments with their corresponding names you can use here are available on Gym’s website https://gym.openai.com/envs/#classic_control"
      ]
    },
    {
      "cell_type": "code",
      "metadata": {
        "id": "xwyW2PS3H9yK",
        "colab_type": "code",
        "colab": {}
      },
      "source": [
        "env = gym.make(\"FrozenLake-v0\")"
      ],
      "execution_count": 0,
      "outputs": []
    },
    {
      "cell_type": "markdown",
      "metadata": {
        "id": "7xwb1AcQIVX5",
        "colab_type": "text"
      },
      "source": [
        "#### Creating the Q-table\n",
        "\n",
        "We’re now going to construct our Q-table, and initialize all the Q-values to zero for each state-action pair.\n",
        "\n",
        "Remember, the number of rows in the table is equivalent to the size of the state space in the environment, and the number of columns is equivalent to the size of the action space. We can get this information using using env.observation_space.n and env.action_space.n, as shown below. We can then use this information to build the Q-table and fill it with zeros. \n"
      ]
    },
    {
      "cell_type": "code",
      "metadata": {
        "id": "rpeyDVGUIOVC",
        "colab_type": "code",
        "colab": {}
      },
      "source": [
        "action_space_size = env.action_space.n\n",
        "state_space_size = env.observation_space.n\n",
        "\n",
        "q_table = np.zeros((state_space_size, action_space_size))"
      ],
      "execution_count": 0,
      "outputs": []
    },
    {
      "cell_type": "code",
      "metadata": {
        "id": "AcjiQAIxIZzP",
        "colab_type": "code",
        "outputId": "6d9fd0dc-1877-424e-b281-389bc4f9775a",
        "colab": {
          "base_uri": "https://localhost:8080/",
          "height": 289
        }
      },
      "source": [
        "print(q_table)"
      ],
      "execution_count": 29,
      "outputs": [
        {
          "output_type": "stream",
          "text": [
            "[[0. 0. 0. 0.]\n",
            " [0. 0. 0. 0.]\n",
            " [0. 0. 0. 0.]\n",
            " [0. 0. 0. 0.]\n",
            " [0. 0. 0. 0.]\n",
            " [0. 0. 0. 0.]\n",
            " [0. 0. 0. 0.]\n",
            " [0. 0. 0. 0.]\n",
            " [0. 0. 0. 0.]\n",
            " [0. 0. 0. 0.]\n",
            " [0. 0. 0. 0.]\n",
            " [0. 0. 0. 0.]\n",
            " [0. 0. 0. 0.]\n",
            " [0. 0. 0. 0.]\n",
            " [0. 0. 0. 0.]\n",
            " [0. 0. 0. 0.]]\n"
          ],
          "name": "stdout"
        }
      ]
    },
    {
      "cell_type": "markdown",
      "metadata": {
        "id": "0WuwdPSKI_3x",
        "colab_type": "text"
      },
      "source": [
        "#### Initializing Q-learning parameters"
      ]
    },
    {
      "cell_type": "markdown",
      "metadata": {
        "id": "E0UaGhkPJOBr",
        "colab_type": "text"
      },
      "source": [
        "First, with **num_episodes**, we define the total number of episodes we want the agent to play during training. Then, with **max_steps_per_episode**, we define a maximum number of steps that our agent is allowed to take within a single episode. So, if by the one-hundredth step, the agent hasn’t reached the frisbee or fallen through a hole, then the episode will terminate with the agent receiving zero points.\n",
        "\n",
        "Next, we set our **learning_rate**, which was mathematically shown using the symbol α\n",
        "in the previous post. Then, we also set our **discount_rate**, as well, which was represented with the symbol γ previously.\n",
        "\n",
        "Now, the last four parameters are all for related to the exploration-exploitation trade-off we talked about last time in regards to the epsilon-greedy po licy. We’re initializing our **exploration_rate** to 1 and setting the **max_exploration_rate** to 1 and a **min_exploration_rate** to 0.01. The max and min are just bounds to how large or small our exploration rate can be.\n",
        "Remember, the exploration rate was represented with the symbol ϵ when we discussed it previously.\n",
        "\n",
        "Lastly, we set the **exploration_decay_rate** to 0.01 to determine the rate at which the exploration_rate will decay. "
      ]
    },
    {
      "cell_type": "code",
      "metadata": {
        "id": "rGloGWdLIhaP",
        "colab_type": "code",
        "colab": {}
      },
      "source": [
        "num_episodes = 10000\n",
        "max_steps_per_episode = 100\n",
        "\n",
        "learning_rate = 0.1\n",
        "discount_rate = 0.99\n",
        "\n",
        "exploration_rate = 1\n",
        "max_exploration_rate = 1\n",
        "min_exploration_rate = 0.01\n",
        "exploration_decay_rate = 0.001"
      ],
      "execution_count": 0,
      "outputs": []
    },
    {
      "cell_type": "markdown",
      "metadata": {
        "id": "rPaNjE4KJ7TN",
        "colab_type": "text"
      },
      "source": [
        "#### The Q-learning algorithm training loop "
      ]
    },
    {
      "cell_type": "markdown",
      "metadata": {
        "id": "MD61fjNIN_B3",
        "colab_type": "text"
      },
      "source": [
        "`Update Q-table for Q(s,a)`:  \n",
        "The new Q-value for this state-action pair is a weighted sum of our old value and the “learned value.” So we have our new Q-value equal to the old Q-value times one minus the learning rate plus the learning rate times the “learned value,” which is the reward we just received from our last action plus the discounted estimate of the optimal future Q-value for the next state action pair."
      ]
    },
    {
      "cell_type": "code",
      "metadata": {
        "id": "CT6uVgcGJESR",
        "colab_type": "code",
        "outputId": "c2209d84-ff16-4c19-f9f1-d96e476c2e1a",
        "colab": {
          "base_uri": "https://localhost:8080/",
          "height": 1360
        }
      },
      "source": [
        "# list to hold all of the rewards\n",
        "rewards_all_episodes = []\n",
        "nbr_success = 0\n",
        "\n",
        "# Q-learning algorithm\n",
        "for episode in range(num_episodes):\n",
        "    # initialize new episode params\n",
        "    state = env.reset()\n",
        "    done = False                 # keeps track of whether or not our episode is finished\n",
        "    rewards_current_episode = 0  # keep track of the rewards\n",
        "    \n",
        "    for step in range(max_steps_per_episode): \n",
        "        # Exploration-exploitation trade-off\n",
        "        exploration_rate_threshold = random.uniform(0, 1)\n",
        "        if exploration_rate_threshold > exploration_rate:  # exploit the environment and choose the action that has the highest Q-value\n",
        "            action = np.argmax(q_table[state,:]) \n",
        "        else:                                              # agent will explore the environment, and sample an action randomly\n",
        "            action = env.action_space.sample()\n",
        "            \n",
        "        # Take new action\n",
        "        new_state, reward, done, info = env.step(action)\n",
        "        \n",
        "        # Update Q-table for Q(s,a)\n",
        "        q_table[state, action] = q_table[state, action] * (1 - learning_rate) + learning_rate * (reward + discount_rate * np.max(q_table[new_state, :]))\n",
        "                \n",
        "        # Set new state\n",
        "        state = new_state\n",
        "        \n",
        "        # Add new reward   \n",
        "        rewards_current_episode += reward\n",
        "        if nbr_success <= 2 and rewards_current_episode > 0:\n",
        "            nbr_success = nbr_success + 1\n",
        "            print(\"\\n*** Success \", nbr_success, \"***\")\n",
        "            print(\"Episode: \", episode)\n",
        "            print(\"Step: \", step)\n",
        "            print(\"Reward: \", reward)\n",
        "            print(\"Reward curr. Episode: \", rewards_current_episode)\n",
        "            print(q_table)\n",
        "            \n",
        "        if done == True: \n",
        "            break\n",
        "\n",
        "\n",
        "    # Exploration rate decay\n",
        "    # Exploration rate decreases or decays at a rate proportional to its current value\n",
        "    exploration_rate = min_exploration_rate + (max_exploration_rate - min_exploration_rate) * np.exp(-exploration_decay_rate*episode) \n",
        "    \n",
        "    # Add current episode reward to total rewards list\n",
        "    rewards_all_episodes.append(rewards_current_episode)\n",
        "\n",
        "    \n",
        "    \n",
        "# Calculate and print the average reward per thousand episodes\n",
        "rewards_per_thosand_episodes = np.split(np.array(rewards_all_episodes),num_episodes/1000)\n",
        "count = 1000\n",
        "\n",
        "print(\"\\n********Average reward per thousand episodes********\\n\")\n",
        "for r in rewards_per_thosand_episodes:\n",
        "    print(count, \": \", str(sum(r/1000)))\n",
        "    count += 1000"
      ],
      "execution_count": 35,
      "outputs": [
        {
          "output_type": "stream",
          "text": [
            "\n",
            "*** Success  1 ***\n",
            "Episode:  29\n",
            "Step:  8\n",
            "Reward:  1.0\n",
            "Reward curr. Episode:  1.0\n",
            "[[0.  0.  0.  0. ]\n",
            " [0.  0.  0.  0. ]\n",
            " [0.  0.  0.  0. ]\n",
            " [0.  0.  0.  0. ]\n",
            " [0.  0.  0.  0. ]\n",
            " [0.  0.  0.  0. ]\n",
            " [0.  0.  0.  0. ]\n",
            " [0.  0.  0.  0. ]\n",
            " [0.  0.  0.  0. ]\n",
            " [0.  0.  0.  0. ]\n",
            " [0.  0.  0.  0. ]\n",
            " [0.  0.  0.  0. ]\n",
            " [0.  0.  0.  0. ]\n",
            " [0.  0.  0.  0. ]\n",
            " [0.  0.  0.  0.1]\n",
            " [0.  0.  0.  0. ]]\n",
            "\n",
            "*** Success  2 ***\n",
            "Episode:  48\n",
            "Step:  8\n",
            "Reward:  1.0\n",
            "Reward curr. Episode:  1.0\n",
            "[[0.     0.     0.     0.    ]\n",
            " [0.     0.     0.     0.    ]\n",
            " [0.     0.     0.     0.    ]\n",
            " [0.     0.     0.     0.    ]\n",
            " [0.     0.     0.     0.    ]\n",
            " [0.     0.     0.     0.    ]\n",
            " [0.     0.     0.     0.    ]\n",
            " [0.     0.     0.     0.    ]\n",
            " [0.     0.     0.     0.    ]\n",
            " [0.     0.     0.     0.    ]\n",
            " [0.     0.0099 0.     0.    ]\n",
            " [0.     0.     0.     0.    ]\n",
            " [0.     0.     0.     0.    ]\n",
            " [0.     0.     0.     0.    ]\n",
            " [0.     0.     0.     0.19  ]\n",
            " [0.     0.     0.     0.    ]]\n",
            "\n",
            "*** Success  3 ***\n",
            "Episode:  195\n",
            "Step:  12\n",
            "Reward:  1.0\n",
            "Reward curr. Episode:  1.0\n",
            "[[3.24264256e-04 2.93342154e-04 3.03508917e-04 2.55240651e-04]\n",
            " [1.38263515e-04 2.38875411e-04 1.73600655e-04 2.71386555e-04]\n",
            " [7.82650952e-04 3.07818980e-04 4.44781182e-04 1.91988245e-04]\n",
            " [1.37663840e-04 1.02283392e-04 4.62235268e-05 1.56165150e-04]\n",
            " [5.19202496e-04 1.61156837e-04 4.02482642e-04 1.42705999e-04]\n",
            " [0.00000000e+00 0.00000000e+00 0.00000000e+00 0.00000000e+00]\n",
            " [2.05960988e-03 3.79710821e-04 2.46478549e-03 5.12463075e-05]\n",
            " [0.00000000e+00 0.00000000e+00 0.00000000e+00 0.00000000e+00]\n",
            " [2.39143383e-04 8.95077776e-04 1.09251049e-03 1.06092537e-03]\n",
            " [3.01401868e-05 2.86407374e-03 1.89764257e-03 7.67419385e-04]\n",
            " [4.28896135e-04 2.57158051e-02 3.01385716e-04 3.37402863e-04]\n",
            " [0.00000000e+00 0.00000000e+00 0.00000000e+00 0.00000000e+00]\n",
            " [0.00000000e+00 0.00000000e+00 0.00000000e+00 0.00000000e+00]\n",
            " [4.89826725e-04 2.26911767e-05 2.28768318e-04 0.00000000e+00]\n",
            " [1.88100000e-02 0.00000000e+00 0.00000000e+00 2.71000000e-01]\n",
            " [0.00000000e+00 0.00000000e+00 0.00000000e+00 0.00000000e+00]]\n",
            "\n",
            "********Average reward per thousand episodes********\n",
            "\n",
            "1000 :  0.037000000000000026\n",
            "2000 :  0.20200000000000015\n",
            "3000 :  0.4270000000000003\n",
            "4000 :  0.5560000000000004\n",
            "5000 :  0.6260000000000004\n",
            "6000 :  0.6720000000000005\n",
            "7000 :  0.6470000000000005\n",
            "8000 :  0.6870000000000005\n",
            "9000 :  0.6980000000000005\n",
            "10000 :  0.7000000000000005\n"
          ],
          "name": "stdout"
        }
      ]
    },
    {
      "cell_type": "code",
      "metadata": {
        "id": "bsKy33tGS0qT",
        "colab_type": "code",
        "outputId": "06d1453d-afb5-4967-8034-32a89e788a25",
        "colab": {
          "base_uri": "https://localhost:8080/",
          "height": 357
        }
      },
      "source": [
        "# Print updated Q-table\n",
        "print(\"\\n\\n********Q-table********\\n\")\n",
        "print(q_table)"
      ],
      "execution_count": 36,
      "outputs": [
        {
          "output_type": "stream",
          "text": [
            "\n",
            "\n",
            "********Q-table********\n",
            "\n",
            "[[0.57340564 0.51789207 0.54903465 0.55788208]\n",
            " [0.37256579 0.29473534 0.2770864  0.51340655]\n",
            " [0.43254201 0.44925283 0.41509581 0.48849292]\n",
            " [0.31287488 0.32528713 0.30752894 0.47037971]\n",
            " [0.58981309 0.3921281  0.40878362 0.44851508]\n",
            " [0.         0.         0.         0.        ]\n",
            " [0.41040528 0.18293859 0.19600376 0.18525299]\n",
            " [0.         0.         0.         0.        ]\n",
            " [0.41925338 0.42097048 0.31289371 0.61284721]\n",
            " [0.4613361  0.67348719 0.40438997 0.50348466]\n",
            " [0.65051689 0.36915622 0.44276444 0.38926654]\n",
            " [0.         0.         0.         0.        ]\n",
            " [0.         0.         0.         0.        ]\n",
            " [0.44363229 0.43473387 0.79173257 0.64023376]\n",
            " [0.72570605 0.86970202 0.77138663 0.73611286]\n",
            " [0.         0.         0.         0.        ]]\n"
          ],
          "name": "stdout"
        }
      ]
    },
    {
      "cell_type": "markdown",
      "metadata": {
        "id": "P4P7tZavXRIF",
        "colab_type": "text"
      },
      "source": [
        "#### Watch the agent play the game"
      ]
    },
    {
      "cell_type": "code",
      "metadata": {
        "id": "ScGUuE87TLyI",
        "colab_type": "code",
        "outputId": "a0c65c4f-c03d-497d-b1b1-f626ad7ad737",
        "colab": {
          "base_uri": "https://localhost:8080/",
          "height": 119
        }
      },
      "source": [
        "# Watch our agent play Frozen Lake by playing the best action \n",
        "# from each state according to the Q-table\n",
        "\n",
        "for episode in range(3):\n",
        "    # initialize new episode params\n",
        "    state = env.reset()\n",
        "    done = False\n",
        "    print(\"*****EPISODE \", episode+1, \"*****\\n\\n\\n\\n\")\n",
        "    time.sleep(1)\n",
        "\n",
        "    for step in range(max_steps_per_episode):        \n",
        "        # Show current state of environment on screen    \n",
        "        clear_output(wait=True)\n",
        "        env.render()\n",
        "        time.sleep(0.3)\n",
        "        \n",
        "        # Choose action with highest Q-value for current state  \n",
        "        action = np.argmax(q_table[state,:])   \n",
        "        \n",
        "        # Take new action\n",
        "        new_state, reward, done, info = env.step(action)\n",
        "        \n",
        "        if done:\n",
        "            clear_output(wait=True)\n",
        "            env.render()\n",
        "            if reward == 1:\n",
        "                # Agent reached the goal and won episode\n",
        "                print(\"****You reached the goal!****\")\n",
        "                time.sleep(3)                \n",
        "            else:\n",
        "                # Agent stepped in a hole and lost episode      \n",
        "                print(\"****You fell through a hole!****\")\n",
        "                time.sleep(3)\n",
        "                clear_output(wait=True)\n",
        "            break\n",
        "            \n",
        "        # Set new state\n",
        "        state = new_state\n",
        "        \n",
        "env.close()"
      ],
      "execution_count": 26,
      "outputs": [
        {
          "output_type": "stream",
          "text": [
            "  (Down)\n",
            "SFFF\n",
            "FHFH\n",
            "FFFH\n",
            "HFF\u001b[41mG\u001b[0m\n",
            "****You reached the goal!****\n"
          ],
          "name": "stdout"
        }
      ]
    }
  ]
}