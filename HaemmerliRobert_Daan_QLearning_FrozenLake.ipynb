{
  "nbformat": 4,
  "nbformat_minor": 0,
  "metadata": {
    "colab": {
      "name": "Untitled1.ipynb",
      "version": "0.3.2",
      "provenance": [],
      "collapsed_sections": [],
      "include_colab_link": true
    },
    "kernelspec": {
      "name": "python3",
      "display_name": "Python 3"
    }
  },
  "cells": [
    {
      "cell_type": "markdown",
      "metadata": {
        "id": "view-in-github",
        "colab_type": "text"
      },
      "source": [
        "<a href=\"https://colab.research.google.com/github/r0brt/Daan_Semesterarbeit/blob/master/HaemmerliRobert_Daan_QLearning_FrozenLake.ipynb\" target=\"_parent\"><img src=\"https://colab.research.google.com/assets/colab-badge.svg\" alt=\"Open In Colab\"/></a>"
      ]
    },
    {
      "cell_type": "code",
      "metadata": {
        "id": "oEblvbRIHCBz",
        "colab_type": "code",
        "colab": {}
      },
      "source": [
        ""
      ],
      "execution_count": 0,
      "outputs": []
    },
    {
      "cell_type": "markdown",
      "metadata": {
        "id": "N3TiwnMWHDE9",
        "colab_type": "text"
      },
      "source": [
        "# Frozen Lake\n",
        "![alt text](http://deeplizard.com/images/frozen%20lake%20winter.jpg)"
      ]
    },
    {
      "cell_type": "code",
      "metadata": {
        "id": "8iwddHx1HZ71",
        "colab_type": "code",
        "colab": {}
      },
      "source": [
        ""
      ],
      "execution_count": 0,
      "outputs": []
    },
    {
      "cell_type": "markdown",
      "metadata": {
        "id": "eisSd85XHfyE",
        "colab_type": "text"
      },
      "source": [
        "### Setting up Frozen Lake\n"
      ]
    },
    {
      "cell_type": "markdown",
      "metadata": {
        "id": "J-DfGbl9Hooo",
        "colab_type": "text"
      },
      "source": [
        "#### Libraries"
      ]
    },
    {
      "cell_type": "code",
      "metadata": {
        "id": "9NL947AEHzUZ",
        "colab_type": "code",
        "colab": {}
      },
      "source": [
        "import numpy as np\n",
        "import gym\n",
        "import random\n",
        "import time\n",
        "from IPython.display import clear_output"
      ],
      "execution_count": 0,
      "outputs": []
    },
    {
      "cell_type": "markdown",
      "metadata": {
        "id": "M5lY4y65H0Ri",
        "colab_type": "text"
      },
      "source": [
        "#### Creating the environment\n",
        "\n",
        "Next, to create our environment, we just call gym.make() and pass a string of the name of the environment we want to set up. We'll be using the environment FrozenLake-v0. All the environments with their corresponding names you can use here are available on Gym’s website https://gym.openai.com/envs/#classic_control"
      ]
    },
    {
      "cell_type": "code",
      "metadata": {
        "id": "xwyW2PS3H9yK",
        "colab_type": "code",
        "colab": {}
      },
      "source": [
        "env = gym.make(\"FrozenLake-v0\")"
      ],
      "execution_count": 0,
      "outputs": []
    },
    {
      "cell_type": "markdown",
      "metadata": {
        "id": "7xwb1AcQIVX5",
        "colab_type": "text"
      },
      "source": [
        "#### Creating the Q-table\n",
        "\n",
        "We’re now going to construct our Q-table, and initialize all the Q-values to zero for each state-action pair.\n",
        "\n",
        "Remember, the number of rows in the table is equivalent to the size of the state space in the environment, and the number of columns is equivalent to the size of the action space. We can get this information using using env.observation_space.n and env.action_space.n, as shown below. We can then use this information to build the Q-table and fill it with zeros. \n"
      ]
    },
    {
      "cell_type": "code",
      "metadata": {
        "id": "rpeyDVGUIOVC",
        "colab_type": "code",
        "colab": {}
      },
      "source": [
        "action_space_size = env.action_space.n\n",
        "state_space_size = env.observation_space.n\n",
        "\n",
        "q_table = np.zeros((state_space_size, action_space_size))"
      ],
      "execution_count": 0,
      "outputs": []
    },
    {
      "cell_type": "code",
      "metadata": {
        "id": "AcjiQAIxIZzP",
        "colab_type": "code",
        "outputId": "0ea44a82-71f3-4f57-93ff-737de589cf15",
        "colab": {
          "base_uri": "https://localhost:8080/",
          "height": 289
        }
      },
      "source": [
        "print(q_table)"
      ],
      "execution_count": 0,
      "outputs": [
        {
          "output_type": "stream",
          "text": [
            "[[0. 0. 0. 0.]\n",
            " [0. 0. 0. 0.]\n",
            " [0. 0. 0. 0.]\n",
            " [0. 0. 0. 0.]\n",
            " [0. 0. 0. 0.]\n",
            " [0. 0. 0. 0.]\n",
            " [0. 0. 0. 0.]\n",
            " [0. 0. 0. 0.]\n",
            " [0. 0. 0. 0.]\n",
            " [0. 0. 0. 0.]\n",
            " [0. 0. 0. 0.]\n",
            " [0. 0. 0. 0.]\n",
            " [0. 0. 0. 0.]\n",
            " [0. 0. 0. 0.]\n",
            " [0. 0. 0. 0.]\n",
            " [0. 0. 0. 0.]]\n"
          ],
          "name": "stdout"
        }
      ]
    },
    {
      "cell_type": "markdown",
      "metadata": {
        "id": "0WuwdPSKI_3x",
        "colab_type": "text"
      },
      "source": [
        "#### Initializing Q-learning parameters"
      ]
    },
    {
      "cell_type": "markdown",
      "metadata": {
        "id": "E0UaGhkPJOBr",
        "colab_type": "text"
      },
      "source": [
        "First, with **num_episodes**, we define the total number of episodes we want the agent to play during training. Then, with **max_steps_per_episode**, we define a maximum number of steps that our agent is allowed to take within a single episode. So, if by the one-hundredth step, the agent hasn’t reached the frisbee or fallen through a hole, then the episode will terminate with the agent receiving zero points.\n",
        "\n",
        "Next, we set our **learning_rate**, which was mathematically shown using the symbol α\n",
        "in the previous post. Then, we also set our **discount_rate**, as well, which was represented with the symbol γ previously.\n",
        "\n",
        "Now, the last four parameters are all for related to the exploration-exploitation trade-off we talked about last time in regards to the epsilon-greedy po licy. We’re initializing our **exploration_rate** to 1 and setting the **max_exploration_rate** to 1 and a **min_exploration_rate** to 0.01. The max and min are just bounds to how large or small our exploration rate can be.\n",
        "Remember, the exploration rate was represented with the symbol ϵwhen we discussed it previously.\n",
        "\n",
        "Lastly, we set the **exploration_decay_rate** to 0.01 to determine the rate at which the exploration_rate will decay. "
      ]
    },
    {
      "cell_type": "code",
      "metadata": {
        "id": "rGloGWdLIhaP",
        "colab_type": "code",
        "colab": {}
      },
      "source": [
        "num_episodes = 10000\n",
        "max_steps_per_episode = 100\n",
        "\n",
        "learning_rate = 0.01\n",
        "discount_rate = 0.99\n",
        "\n",
        "exploration_rate = 1\n",
        "max_exploration_rate = 1\n",
        "min_exploration_rate = 0.01\n",
        "exploration_decay_rate = 0.001"
      ],
      "execution_count": 0,
      "outputs": []
    },
    {
      "cell_type": "markdown",
      "metadata": {
        "id": "rPaNjE4KJ7TN",
        "colab_type": "text"
      },
      "source": [
        "#### The Q-learning algorithm training loop "
      ]
    },
    {
      "cell_type": "markdown",
      "metadata": {
        "id": "MD61fjNIN_B3",
        "colab_type": "text"
      },
      "source": [
        "`Update Q-table for Q(s,a)`:  \n",
        "The new Q-value for this state-action pair is a weighted sum of our old value and the “learned value.” So we have our new Q-value equal to the old Q-value times one minus the learning rate plus the learning rate times the “learned value,” which is the reward we just received from our last action plus the discounted estimate of the optimal future Q-value for the next state action pair."
      ]
    },
    {
      "cell_type": "code",
      "metadata": {
        "id": "CT6uVgcGJESR",
        "colab_type": "code",
        "colab": {}
      },
      "source": [
        "# list to hold all of the rewards\n",
        "rewards_all_episodes = []\n",
        "\n",
        "# Q-learning algorithm\n",
        "for episode in range(num_episodes):\n",
        "    # initialize new episode params\n",
        "    state = env.reset()\n",
        "    done = False                 # keeps track of whether or not our episode is finished\n",
        "    rewards_current_episode = 0  # keep track of the rewards\n",
        "    \n",
        "    for step in range(max_steps_per_episode): \n",
        "        # Exploration-exploitation trade-off\n",
        "        exploration_rate_threshold = random.uniform(0, 1)\n",
        "        if exploration_rate_threshold > exploration_rate:  # exploit the environment and choose the action that has the highest Q-value\n",
        "            action = np.argmax(q_table[state,:]) \n",
        "        else:                                              # agent will explore the environment, and sample an action randomly\n",
        "            action = env.action_space.sample()\n",
        "            \n",
        "        # Take new action\n",
        "        new_state, reward, done, info = env.step(action)\n",
        "        \n",
        "        # Update Q-table for Q(s,a)\n",
        "        q_table[state, action] = q_table[state, action] * (1 - learning_rate) + learning_rate * (reward + discount_rate * np.max(q_table[new_state, :]))\n",
        "                \n",
        "        # Set new state\n",
        "        state = new_state\n",
        "        \n",
        "        # Add new reward   \n",
        "        rewards_current_episode += reward\n",
        "        \n",
        "        if done == True: \n",
        "            break\n",
        "\n",
        "\n",
        "    # Exploration rate decay\n",
        "    # Exploration rate decreases or decays at a rate proportional to its current value\n",
        "    exploration_rate = min_exploration_rate + (max_exploration_rate - min_exploration_rate) * np.exp(-exploration_decay_rate*episode) \n",
        "    \n",
        "    # Add current episode reward to total rewards list\n",
        "    rewards_all_episodes.append(rewards_current_episode)"
      ],
      "execution_count": 0,
      "outputs": []
    },
    {
      "cell_type": "code",
      "metadata": {
        "id": "wc1s6qzXS3DM",
        "colab_type": "code",
        "outputId": "53857b81-68ae-4871-8fa8-202b585a3d71",
        "colab": {
          "base_uri": "https://localhost:8080/",
          "height": 221
        }
      },
      "source": [
        "# Calculate and print the average reward per thousand episodes\n",
        "rewards_per_thosand_episodes = np.split(np.array(rewards_all_episodes),num_episodes/1000)\n",
        "count = 1000\n",
        "\n",
        "print(\"********Average reward per thousand episodes********\\n\")\n",
        "for r in rewards_per_thosand_episodes:\n",
        "    print(count, \": \", str(sum(r/1000)))\n",
        "    count += 1000"
      ],
      "execution_count": 44,
      "outputs": [
        {
          "output_type": "stream",
          "text": [
            "********Average reward per thousand episodes********\n",
            "\n",
            "1000 :  0.05600000000000004\n",
            "2000 :  0.17900000000000013\n",
            "3000 :  0.43300000000000033\n",
            "4000 :  0.5820000000000004\n",
            "5000 :  0.6470000000000005\n",
            "6000 :  0.6420000000000005\n",
            "7000 :  0.6740000000000005\n",
            "8000 :  0.6960000000000005\n",
            "9000 :  0.6890000000000005\n",
            "10000 :  0.7110000000000005\n"
          ],
          "name": "stdout"
        }
      ]
    },
    {
      "cell_type": "code",
      "metadata": {
        "id": "bsKy33tGS0qT",
        "colab_type": "code",
        "outputId": "b7308625-a096-44f8-b4b7-8436dc44bd32",
        "colab": {
          "base_uri": "https://localhost:8080/",
          "height": 357
        }
      },
      "source": [
        "# Print updated Q-table\n",
        "print(\"\\n\\n********Q-table********\\n\")\n",
        "print(q_table)"
      ],
      "execution_count": 25,
      "outputs": [
        {
          "output_type": "stream",
          "text": [
            "\n",
            "\n",
            "********Q-table********\n",
            "\n",
            "[[0.49285598 0.48567299 0.48430922 0.48481107]\n",
            " [0.37695337 0.36177207 0.25163424 0.47018398]\n",
            " [0.41114561 0.41787378 0.41462325 0.44898486]\n",
            " [0.29468777 0.40065272 0.29184702 0.43418967]\n",
            " [0.51973289 0.46145668 0.41746398 0.3182259 ]\n",
            " [0.         0.         0.         0.        ]\n",
            " [0.20821688 0.15222062 0.40475105 0.16150516]\n",
            " [0.         0.         0.         0.        ]\n",
            " [0.41552005 0.28980449 0.33176444 0.56930379]\n",
            " [0.44063289 0.63271233 0.38909196 0.26649917]\n",
            " [0.65579346 0.39797181 0.44981905 0.35714035]\n",
            " [0.         0.         0.         0.        ]\n",
            " [0.         0.         0.         0.        ]\n",
            " [0.48279929 0.42402213 0.66291352 0.47703417]\n",
            " [0.72336321 0.82099667 0.75904861 0.75330241]\n",
            " [0.         0.         0.         0.        ]]\n"
          ],
          "name": "stdout"
        }
      ]
    },
    {
      "cell_type": "markdown",
      "metadata": {
        "id": "P4P7tZavXRIF",
        "colab_type": "text"
      },
      "source": [
        "#### Watch the agent play the game"
      ]
    },
    {
      "cell_type": "code",
      "metadata": {
        "id": "ScGUuE87TLyI",
        "colab_type": "code",
        "colab": {
          "base_uri": "https://localhost:8080/",
          "height": 119
        },
        "outputId": "218d0c99-dd2b-48d8-a84e-cc4f8fbe960c"
      },
      "source": [
        "# Watch our agent play Frozen Lake by playing the best action \n",
        "# from each state according to the Q-table\n",
        "\n",
        "for episode in range(3):\n",
        "    # initialize new episode params\n",
        "    state = env.reset()\n",
        "    done = False\n",
        "    print(\"*****EPISODE \", episode+1, \"*****\\n\\n\\n\\n\")\n",
        "    time.sleep(1)\n",
        "\n",
        "    for step in range(max_steps_per_episode):        \n",
        "        # Show current state of environment on screen    \n",
        "        clear_output(wait=True)\n",
        "        env.render()\n",
        "        time.sleep(0.3)\n",
        "        \n",
        "        # Choose action with highest Q-value for current state  \n",
        "        action = np.argmax(q_table[state,:])   \n",
        "        \n",
        "        # Take new action\n",
        "        new_state, reward, done, info = env.step(action)\n",
        "        \n",
        "        if done:\n",
        "            clear_output(wait=True)\n",
        "            env.render()\n",
        "            if reward == 1:\n",
        "                # Agent reached the goal and won episode\n",
        "                print(\"****You reached the goal!****\")\n",
        "                time.sleep(3)                \n",
        "            else:\n",
        "                # Agent stepped in a hole and lost episode      \n",
        "                print(\"****You fell through a hole!****\")\n",
        "                time.sleep(3)\n",
        "                clear_output(wait=True)\n",
        "            break\n",
        "            \n",
        "        # Set new state\n",
        "        state = new_state\n",
        "        \n",
        "env.close()"
      ],
      "execution_count": 45,
      "outputs": [
        {
          "output_type": "stream",
          "text": [
            "  (Right)\n",
            "SFFF\n",
            "FHF\u001b[41mH\u001b[0m\n",
            "FFFH\n",
            "HFFG\n",
            "****You fell through a hole!****\n"
          ],
          "name": "stdout"
        }
      ]
    }
  ]
}