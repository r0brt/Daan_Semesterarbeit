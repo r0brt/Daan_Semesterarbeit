{
  "nbformat": 4,
  "nbformat_minor": 0,
  "metadata": {
    "colab": {
      "name": "Untitled1.ipynb",
      "version": "0.3.2",
      "provenance": [],
      "collapsed_sections": [],
      "include_colab_link": true
    },
    "kernelspec": {
      "name": "python3",
      "display_name": "Python 3"
    }
  },
  "cells": [
    {
      "cell_type": "markdown",
      "metadata": {
        "id": "view-in-github",
        "colab_type": "text"
      },
      "source": [
        "<a href=\"https://colab.research.google.com/github/r0brt/Daan_Semesterarbeit/blob/master/HaemmerliRobert_Daan_QLearning_FrozenLake.ipynb\" target=\"_parent\"><img src=\"https://colab.research.google.com/assets/colab-badge.svg\" alt=\"Open In Colab\"/></a>"
      ]
    },
    {
      "cell_type": "markdown",
      "metadata": {
        "id": "N3TiwnMWHDE9",
        "colab_type": "text"
      },
      "source": [
        "# Frozen Lake\n",
        "![alt text](http://deeplizard.com/images/frozen%20lake%20winter.jpg)"
      ]
    },
    {
      "cell_type": "code",
      "metadata": {
        "id": "8iwddHx1HZ71",
        "colab_type": "code",
        "colab": {}
      },
      "source": [
        ""
      ],
      "execution_count": 0,
      "outputs": []
    },
    {
      "cell_type": "markdown",
      "metadata": {
        "id": "eisSd85XHfyE",
        "colab_type": "text"
      },
      "source": [
        "### Setting up Frozen Lake\n"
      ]
    },
    {
      "cell_type": "markdown",
      "metadata": {
        "id": "J-DfGbl9Hooo",
        "colab_type": "text"
      },
      "source": [
        "#### Libraries"
      ]
    },
    {
      "cell_type": "code",
      "metadata": {
        "id": "9NL947AEHzUZ",
        "colab_type": "code",
        "colab": {}
      },
      "source": [
        "import numpy as np\n",
        "import gym\n",
        "import random\n",
        "import time\n",
        "from IPython.display import clear_output"
      ],
      "execution_count": 0,
      "outputs": []
    },
    {
      "cell_type": "markdown",
      "metadata": {
        "id": "M5lY4y65H0Ri",
        "colab_type": "text"
      },
      "source": [
        "#### Creating the environment\n",
        "\n",
        "Next, to create our environment, we just call gym.make() and pass a string of the name of the environment we want to set up. We'll be using the environment FrozenLake-v0. All the environments with their corresponding names you can use here are available on Gym’s website https://gym.openai.com/envs/#classic_control"
      ]
    },
    {
      "cell_type": "code",
      "metadata": {
        "id": "xwyW2PS3H9yK",
        "colab_type": "code",
        "colab": {}
      },
      "source": [
        "env = gym.make(\"FrozenLake-v0\")"
      ],
      "execution_count": 0,
      "outputs": []
    },
    {
      "cell_type": "markdown",
      "metadata": {
        "id": "7xwb1AcQIVX5",
        "colab_type": "text"
      },
      "source": [
        "#### Creating the Q-table\n",
        "\n",
        "We’re now going to construct our Q-table, and initialize all the Q-values to zero for each state-action pair.\n",
        "\n",
        "Remember, the number of rows in the table is equivalent to the size of the state space in the environment, and the number of columns is equivalent to the size of the action space. We can get this information using using env.observation_space.n and env.action_space.n, as shown below. We can then use this information to build the Q-table and fill it with zeros. \n"
      ]
    },
    {
      "cell_type": "code",
      "metadata": {
        "id": "rpeyDVGUIOVC",
        "colab_type": "code",
        "colab": {}
      },
      "source": [
        "action_space_size = env.action_space.n\n",
        "state_space_size = env.observation_space.n\n",
        "\n",
        "q_table = np.zeros((state_space_size, action_space_size))"
      ],
      "execution_count": 0,
      "outputs": []
    },
    {
      "cell_type": "code",
      "metadata": {
        "id": "AcjiQAIxIZzP",
        "colab_type": "code",
        "outputId": "0ea44a82-71f3-4f57-93ff-737de589cf15",
        "colab": {
          "base_uri": "https://localhost:8080/",
          "height": 289
        }
      },
      "source": [
        "print(q_table)"
      ],
      "execution_count": 0,
      "outputs": [
        {
          "output_type": "stream",
          "text": [
            "[[0. 0. 0. 0.]\n",
            " [0. 0. 0. 0.]\n",
            " [0. 0. 0. 0.]\n",
            " [0. 0. 0. 0.]\n",
            " [0. 0. 0. 0.]\n",
            " [0. 0. 0. 0.]\n",
            " [0. 0. 0. 0.]\n",
            " [0. 0. 0. 0.]\n",
            " [0. 0. 0. 0.]\n",
            " [0. 0. 0. 0.]\n",
            " [0. 0. 0. 0.]\n",
            " [0. 0. 0. 0.]\n",
            " [0. 0. 0. 0.]\n",
            " [0. 0. 0. 0.]\n",
            " [0. 0. 0. 0.]\n",
            " [0. 0. 0. 0.]]\n"
          ],
          "name": "stdout"
        }
      ]
    },
    {
      "cell_type": "markdown",
      "metadata": {
        "id": "0WuwdPSKI_3x",
        "colab_type": "text"
      },
      "source": [
        "#### Initializing Q-learning parameters"
      ]
    },
    {
      "cell_type": "markdown",
      "metadata": {
        "id": "E0UaGhkPJOBr",
        "colab_type": "text"
      },
      "source": [
        "First, with **num_episodes**, we define the total number of episodes we want the agent to play during training. Then, with **max_steps_per_episode**, we define a maximum number of steps that our agent is allowed to take within a single episode. So, if by the one-hundredth step, the agent hasn’t reached the frisbee or fallen through a hole, then the episode will terminate with the agent receiving zero points.\n",
        "\n",
        "Next, we set our **learning_rate**, which was mathematically shown using the symbol α\n",
        "in the previous post. Then, we also set our **discount_rate**, as well, which was represented with the symbol γ previously.\n",
        "\n",
        "Now, the last four parameters are all for related to the exploration-exploitation trade-off we talked about last time in regards to the epsilon-greedy po licy. We’re initializing our **exploration_rate** to 1 and setting the **max_exploration_rate** to 1 and a **min_exploration_rate** to 0.01. The max and min are just bounds to how large or small our exploration rate can be.\n",
        "Remember, the exploration rate was represented with the symbol ϵwhen we discussed it previously.\n",
        "\n",
        "Lastly, we set the **exploration_decay_rate** to 0.01 to determine the rate at which the exploration_rate will decay. "
      ]
    },
    {
      "cell_type": "code",
      "metadata": {
        "id": "rGloGWdLIhaP",
        "colab_type": "code",
        "colab": {}
      },
      "source": [
        "num_episodes = 10000\n",
        "max_steps_per_episode = 100\n",
        "\n",
        "learning_rate = 0.1\n",
        "discount_rate = 0.99\n",
        "\n",
        "exploration_rate = 1\n",
        "max_exploration_rate = 1\n",
        "min_exploration_rate = 0.01\n",
        "exploration_decay_rate = 0.001"
      ],
      "execution_count": 0,
      "outputs": []
    },
    {
      "cell_type": "markdown",
      "metadata": {
        "id": "rPaNjE4KJ7TN",
        "colab_type": "text"
      },
      "source": [
        "#### The Q-learning algorithm training loop "
      ]
    },
    {
      "cell_type": "markdown",
      "metadata": {
        "id": "MD61fjNIN_B3",
        "colab_type": "text"
      },
      "source": [
        "`Update Q-table for Q(s,a)`:  \n",
        "The new Q-value for this state-action pair is a weighted sum of our old value and the “learned value.” So we have our new Q-value equal to the old Q-value times one minus the learning rate plus the learning rate times the “learned value,” which is the reward we just received from our last action plus the discounted estimate of the optimal future Q-value for the next state action pair."
      ]
    },
    {
      "cell_type": "code",
      "metadata": {
        "id": "CT6uVgcGJESR",
        "colab_type": "code",
        "colab": {
          "base_uri": "https://localhost:8080/",
          "height": 221
        },
        "outputId": "7560909c-544d-4b11-a9bd-4bd517884dd1"
      },
      "source": [
        "# list to hold all of the rewards\n",
        "rewards_all_episodes = []\n",
        "\n",
        "# Q-learning algorithm\n",
        "for episode in range(num_episodes):\n",
        "    # initialize new episode params\n",
        "    state = env.reset()\n",
        "    done = False                 # keeps track of whether or not our episode is finished\n",
        "    rewards_current_episode = 0  # keep track of the rewards\n",
        "    \n",
        "    for step in range(max_steps_per_episode): \n",
        "        # Exploration-exploitation trade-off\n",
        "        exploration_rate_threshold = random.uniform(0, 1)\n",
        "        if exploration_rate_threshold > exploration_rate:  # exploit the environment and choose the action that has the highest Q-value\n",
        "            action = np.argmax(q_table[state,:]) \n",
        "        else:                                              # agent will explore the environment, and sample an action randomly\n",
        "            action = env.action_space.sample()\n",
        "            \n",
        "        # Take new action\n",
        "        new_state, reward, done, info = env.step(action)\n",
        "        \n",
        "        # Update Q-table for Q(s,a)\n",
        "        q_table[state, action] = q_table[state, action] * (1 - learning_rate) + learning_rate * (reward + discount_rate * np.max(q_table[new_state, :]))\n",
        "                \n",
        "        # Set new state\n",
        "        state = new_state\n",
        "        \n",
        "        # Add new reward   \n",
        "        rewards_current_episode += reward\n",
        "        \n",
        "        if done == True: \n",
        "            break\n",
        "\n",
        "\n",
        "    # Exploration rate decay\n",
        "    # Exploration rate decreases or decays at a rate proportional to its current value\n",
        "    exploration_rate = min_exploration_rate + (max_exploration_rate - min_exploration_rate) * np.exp(-exploration_decay_rate*episode) \n",
        "    \n",
        "    # Add current episode reward to total rewards list\n",
        "    rewards_all_episodes.append(rewards_current_episode)\n",
        "\n",
        "    \n",
        "    \n",
        "# Calculate and print the average reward per thousand episodes\n",
        "rewards_per_thosand_episodes = np.split(np.array(rewards_all_episodes),num_episodes/1000)\n",
        "count = 1000\n",
        "\n",
        "print(\"********Average reward per thousand episodes********\\n\")\n",
        "for r in rewards_per_thosand_episodes:\n",
        "    print(count, \": \", str(sum(r/1000)))\n",
        "    count += 1000"
      ],
      "execution_count": 42,
      "outputs": [
        {
          "output_type": "stream",
          "text": [
            "********Average reward per thousand episodes********\n",
            "\n",
            "1000 :  0.05100000000000004\n",
            "2000 :  0.20700000000000016\n",
            "3000 :  0.3880000000000003\n",
            "4000 :  0.5920000000000004\n",
            "5000 :  0.6280000000000004\n",
            "6000 :  0.6560000000000005\n",
            "7000 :  0.6760000000000005\n",
            "8000 :  0.6980000000000005\n",
            "9000 :  0.6920000000000005\n",
            "10000 :  0.7040000000000005\n"
          ],
          "name": "stdout"
        }
      ]
    },
    {
      "cell_type": "code",
      "metadata": {
        "id": "bsKy33tGS0qT",
        "colab_type": "code",
        "outputId": "7e138e00-6735-4d59-e821-63b4d9dea677",
        "colab": {
          "base_uri": "https://localhost:8080/",
          "height": 357
        }
      },
      "source": [
        "# Print updated Q-table\n",
        "print(\"\\n\\n********Q-table********\\n\")\n",
        "print(q_table)"
      ],
      "execution_count": 43,
      "outputs": [
        {
          "output_type": "stream",
          "text": [
            "\n",
            "\n",
            "********Q-table********\n",
            "\n",
            "[[0.5838223  0.52750779 0.52365497 0.51196927]\n",
            " [0.44490619 0.31627548 0.29394548 0.50941871]\n",
            " [0.44022634 0.42753719 0.40449746 0.47400318]\n",
            " [0.3215188  0.29087273 0.31057248 0.45455446]\n",
            " [0.61839326 0.35704584 0.37840174 0.35527566]\n",
            " [0.         0.         0.         0.        ]\n",
            " [0.4432711  0.1393982  0.15758164 0.14026731]\n",
            " [0.         0.         0.         0.        ]\n",
            " [0.34830184 0.51649327 0.53382988 0.66726766]\n",
            " [0.47698647 0.71017913 0.46611738 0.43138659]\n",
            " [0.70513571 0.45446062 0.48466952 0.34989924]\n",
            " [0.         0.         0.         0.        ]\n",
            " [0.         0.         0.         0.        ]\n",
            " [0.49189412 0.45815985 0.78907372 0.5741952 ]\n",
            " [0.77182781 0.85221414 0.77880837 0.78925381]\n",
            " [0.         0.         0.         0.        ]]\n"
          ],
          "name": "stdout"
        }
      ]
    },
    {
      "cell_type": "markdown",
      "metadata": {
        "id": "P4P7tZavXRIF",
        "colab_type": "text"
      },
      "source": [
        "#### Watch the agent play the game"
      ]
    },
    {
      "cell_type": "code",
      "metadata": {
        "id": "ScGUuE87TLyI",
        "colab_type": "code",
        "outputId": "371a05c8-4153-40c9-a039-26cdb070bea2",
        "colab": {
          "base_uri": "https://localhost:8080/",
          "height": 119
        }
      },
      "source": [
        "# Watch our agent play Frozen Lake by playing the best action \n",
        "# from each state according to the Q-table\n",
        "\n",
        "for episode in range(3):\n",
        "    # initialize new episode params\n",
        "    state = env.reset()\n",
        "    done = False\n",
        "    print(\"*****EPISODE \", episode+1, \"*****\\n\\n\\n\\n\")\n",
        "    time.sleep(1)\n",
        "\n",
        "    for step in range(max_steps_per_episode):        \n",
        "        # Show current state of environment on screen    \n",
        "        clear_output(wait=True)\n",
        "        env.render()\n",
        "        time.sleep(0.3)\n",
        "        \n",
        "        # Choose action with highest Q-value for current state  \n",
        "        action = np.argmax(q_table[state,:])   \n",
        "        \n",
        "        # Take new action\n",
        "        new_state, reward, done, info = env.step(action)\n",
        "        \n",
        "        if done:\n",
        "            clear_output(wait=True)\n",
        "            env.render()\n",
        "            if reward == 1:\n",
        "                # Agent reached the goal and won episode\n",
        "                print(\"****You reached the goal!****\")\n",
        "                time.sleep(3)                \n",
        "            else:\n",
        "                # Agent stepped in a hole and lost episode      \n",
        "                print(\"****You fell through a hole!****\")\n",
        "                time.sleep(3)\n",
        "                clear_output(wait=True)\n",
        "            break\n",
        "            \n",
        "        # Set new state\n",
        "        state = new_state\n",
        "        \n",
        "env.close()"
      ],
      "execution_count": 44,
      "outputs": [
        {
          "output_type": "stream",
          "text": [
            "  (Down)\n",
            "SFFF\n",
            "FHFH\n",
            "FFFH\n",
            "HFF\u001b[41mG\u001b[0m\n",
            "****You reached the goal!****\n"
          ],
          "name": "stdout"
        }
      ]
    }
  ]
}