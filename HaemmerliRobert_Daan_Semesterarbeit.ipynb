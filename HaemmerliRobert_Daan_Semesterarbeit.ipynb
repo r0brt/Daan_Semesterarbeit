{
  "nbformat": 4,
  "nbformat_minor": 0,
  "metadata": {
    "colab": {
      "name": "HaemmerliRobert_Daan_Semesterarbeit.ipynb",
      "version": "0.3.2",
      "provenance": [],
      "collapsed_sections": [
        "BXOA_5SFMtU4"
      ],
      "toc_visible": true,
      "include_colab_link": true
    },
    "language_info": {
      "codemirror_mode": {
        "name": "ipython",
        "version": 3
      },
      "file_extension": ".py",
      "mimetype": "text/x-python",
      "name": "python",
      "nbconvert_exporter": "python",
      "pygments_lexer": "ipython3",
      "version": "3.6.8"
    },
    "kernelspec": {
      "name": "python3",
      "display_name": "Python 3"
    },
    "accelerator": "GPU"
  },
  "cells": [
    {
      "cell_type": "markdown",
      "metadata": {
        "id": "view-in-github",
        "colab_type": "text"
      },
      "source": [
        "<a href=\"https://colab.research.google.com/github/r0brt/Daan_Semesterarbeit/blob/master/HaemmerliRobert_Daan_Semesterarbeit.ipynb\" target=\"_parent\"><img src=\"https://colab.research.google.com/assets/colab-badge.svg\" alt=\"Open In Colab\"/></a>"
      ]
    },
    {
      "cell_type": "markdown",
      "metadata": {
        "id": "r_5MLf52bPI6",
        "colab_type": "text"
      },
      "source": [
        "# Sentiment Analysis on Twitter Data"
      ]
    },
    {
      "cell_type": "markdown",
      "metadata": {
        "id": "JlRBTtb6bPI-",
        "colab_type": "text"
      },
      "source": [
        "## Idee\n",
        "1. Bereingen der Tweeties \n",
        "2. 'auto-labeln' mit textblob/Vader.  \n",
        "3. Anschliessend verschiedene Varianten des Preprocessing (mit/ohne Stemming, Stopwords, ...) ausprobieren.  \n",
        "4. Ergebnisse - des mit den vorverarbeiteten Texten gefütterten Klassifikators - vergleichen."
      ]
    },
    {
      "cell_type": "markdown",
      "metadata": {
        "id": "TCyXDfGObPJB",
        "colab_type": "text"
      },
      "source": [
        "### Daten\n",
        "- tesla-Tweets, download via Twitter-API\n",
        "- 2586 Zeilen\n",
        "- Datentyp Text\n"
      ]
    },
    {
      "cell_type": "markdown",
      "metadata": {
        "id": "O8rm9ES7bPJL",
        "colab_type": "text"
      },
      "source": [
        "## 1. Importing Libraries"
      ]
    },
    {
      "cell_type": "code",
      "metadata": {
        "id": "5B8gqgpRbPJP",
        "colab_type": "code",
        "colab": {}
      },
      "source": [
        "import warnings\n",
        "warnings.filterwarnings('ignore')\n",
        "warnings.simplefilter('ignore')\n",
        "# Generelle Daten-Handling Libraries\n",
        "import pandas as pd \n",
        "pd.options.display.max_colwidth = 144\n",
        "import numpy as np \n",
        "import csv\n",
        "import string\n",
        "import re\n",
        "import json\n",
        "import time"
      ],
      "execution_count": 0,
      "outputs": []
    },
    {
      "cell_type": "code",
      "metadata": {
        "id": "daK4chqhbPKH",
        "colab_type": "code",
        "colab": {}
      },
      "source": [
        "pip install scikit-plot\n",
        "# Libs Plots und Visualisierungen\n",
        "from IPython.display import display\n",
        "import matplotlib.pyplot as plt\n",
        "import seaborn as sns\n",
        "%matplotlib inline"
      ],
      "execution_count": 0,
      "outputs": []
    },
    {
      "cell_type": "code",
      "metadata": {
        "id": "r33UsO7-bPLq",
        "colab_type": "code",
        "outputId": "e9548702-7a81-46bb-8272-75cd8fcd6652",
        "colab": {
          "base_uri": "https://localhost:8080/",
          "height": 119
        }
      },
      "source": [
        "# Machine Learning imports\n",
        "import nltk\n",
        "nltk.download('stopwords')\n",
        "nltk.download('punkt')\n",
        "nltk.download('wordnet')\n",
        "# from sklearn.pipeline import Pipeline\n",
        "# from sklearn.metrics import classification_report, confusion_matrix, accuracy_score\n",
        "# from sklearn.model_selection import GridSearchCV\n",
        "# from sklearn.externals import joblib"
      ],
      "execution_count": 111,
      "outputs": [
        {
          "output_type": "stream",
          "text": [
            "[nltk_data] Downloading package stopwords to /root/nltk_data...\n",
            "[nltk_data]   Package stopwords is already up-to-date!\n",
            "[nltk_data] Downloading package punkt to /root/nltk_data...\n",
            "[nltk_data]   Package punkt is already up-to-date!\n",
            "[nltk_data] Downloading package wordnet to /root/nltk_data...\n",
            "[nltk_data]   Package wordnet is already up-to-date!\n"
          ],
          "name": "stdout"
        }
      ]
    },
    {
      "cell_type": "markdown",
      "metadata": {
        "toc-hr-collapsed": true,
        "id": "BwPXH8ZKbPL4",
        "colab_type": "text"
      },
      "source": [
        "## 2. Importing Data"
      ]
    },
    {
      "cell_type": "markdown",
      "metadata": {
        "id": "zB483mwXbPL8",
        "colab_type": "text"
      },
      "source": [
        "#### Lesen des csv-Files in einen DataFrame"
      ]
    },
    {
      "cell_type": "code",
      "metadata": {
        "id": "6vHUJMBKeGKp",
        "colab_type": "code",
        "outputId": "9acd72cb-4e13-49dd-e110-1ab737efb107",
        "colab": {
          "base_uri": "https://localhost:8080/",
          "height": 34
        }
      },
      "source": [
        "# from google.colab import drive\n",
        "# drive.mount('/content/gdrive')\n",
        "# read into dataframe from google drive\n",
        "# dfTweets = pd.read_csv('/content/gdrive/My Drive/data/twitter_sentiment_analysis_train.csv',encoding='iso-8859-1')"
      ],
      "execution_count": 93,
      "outputs": [
        {
          "output_type": "stream",
          "text": [
            "Drive already mounted at /content/gdrive; to attempt to forcibly remount, call drive.mount(\"/content/gdrive\", force_remount=True).\n"
          ],
          "name": "stdout"
        }
      ]
    },
    {
      "cell_type": "code",
      "metadata": {
        "id": "-GG6orXU-s8M",
        "colab_type": "code",
        "colab": {}
      },
      "source": [
        "# read into dataframe from github\n",
        "url = 'https://raw.githubusercontent.com/r0brt/Daan_Semesterarbeit/master/twitter_sentiment_analysis_train.csv'\n",
        "dfTweets = pd.read_csv(url,encoding='iso-8859-1')"
      ],
      "execution_count": 0,
      "outputs": []
    },
    {
      "cell_type": "code",
      "metadata": {
        "id": "cXl7OMXsbPL-",
        "colab_type": "code",
        "colab": {}
      },
      "source": [
        "\n"
      ],
      "execution_count": 0,
      "outputs": []
    },
    {
      "cell_type": "markdown",
      "metadata": {
        "id": "gNdiuzu-bPMJ",
        "colab_type": "text"
      },
      "source": [
        "#### Grösse des DataFrames ermitteln"
      ]
    },
    {
      "cell_type": "code",
      "metadata": {
        "id": "Flx_QkVFbPM-",
        "colab_type": "code",
        "outputId": "94e81be9-62ae-48d5-c959-e107beb0534c",
        "colab": {
          "base_uri": "https://localhost:8080/",
          "height": 34
        }
      },
      "source": [
        "# Anzahl Zeilen/Spalten\n",
        "dfTweets.shape"
      ],
      "execution_count": 113,
      "outputs": [
        {
          "output_type": "execute_result",
          "data": {
            "text/plain": [
              "(99989, 3)"
            ]
          },
          "metadata": {
            "tags": []
          },
          "execution_count": 113
        }
      ]
    },
    {
      "cell_type": "markdown",
      "metadata": {
        "id": "8UXMACRdbPNR",
        "colab_type": "text"
      },
      "source": [
        "-> 99989 Zeilen / 3 Spalten"
      ]
    },
    {
      "cell_type": "markdown",
      "metadata": {
        "id": "e4tDJdHFbPNU",
        "colab_type": "text"
      },
      "source": [
        "#### Ausgabe der Infos über den Dataframe (Spaltennamen, Datentyp, ...)"
      ]
    },
    {
      "cell_type": "code",
      "metadata": {
        "id": "8PPpHW1ubPNa",
        "colab_type": "code",
        "outputId": "89c74518-f1b8-4ae3-b3cf-0baa8d01cca0",
        "colab": {
          "base_uri": "https://localhost:8080/",
          "height": 153
        }
      },
      "source": [
        "# Infos über den Dataframe (Spaltennamen, Datentyp, ...)\n",
        "dfTweets.info()"
      ],
      "execution_count": 114,
      "outputs": [
        {
          "output_type": "stream",
          "text": [
            "<class 'pandas.core.frame.DataFrame'>\n",
            "RangeIndex: 99989 entries, 0 to 99988\n",
            "Data columns (total 3 columns):\n",
            "ItemID           99989 non-null int64\n",
            "Sentiment        99989 non-null int64\n",
            "SentimentText    99989 non-null object\n",
            "dtypes: int64(2), object(1)\n",
            "memory usage: 2.3+ MB\n"
          ],
          "name": "stdout"
        }
      ]
    },
    {
      "cell_type": "markdown",
      "metadata": {
        "id": "Gl3Uet5ZbPNs",
        "colab_type": "text"
      },
      "source": [
        "#### kleiner Blick in den DataFrame"
      ]
    },
    {
      "cell_type": "code",
      "metadata": {
        "id": "hukBP5TGbPOM",
        "colab_type": "code",
        "outputId": "84024087-d9d7-467a-d395-60c759f07794",
        "colab": {
          "base_uri": "https://localhost:8080/",
          "height": 204
        }
      },
      "source": [
        "dfTweets.head(5)"
      ],
      "execution_count": 115,
      "outputs": [
        {
          "output_type": "execute_result",
          "data": {
            "text/html": [
              "<div>\n",
              "<style scoped>\n",
              "    .dataframe tbody tr th:only-of-type {\n",
              "        vertical-align: middle;\n",
              "    }\n",
              "\n",
              "    .dataframe tbody tr th {\n",
              "        vertical-align: top;\n",
              "    }\n",
              "\n",
              "    .dataframe thead th {\n",
              "        text-align: right;\n",
              "    }\n",
              "</style>\n",
              "<table border=\"1\" class=\"dataframe\">\n",
              "  <thead>\n",
              "    <tr style=\"text-align: right;\">\n",
              "      <th></th>\n",
              "      <th>ItemID</th>\n",
              "      <th>Sentiment</th>\n",
              "      <th>SentimentText</th>\n",
              "    </tr>\n",
              "  </thead>\n",
              "  <tbody>\n",
              "    <tr>\n",
              "      <th>0</th>\n",
              "      <td>1</td>\n",
              "      <td>0</td>\n",
              "      <td>is so sad for my APL friend.............</td>\n",
              "    </tr>\n",
              "    <tr>\n",
              "      <th>1</th>\n",
              "      <td>2</td>\n",
              "      <td>0</td>\n",
              "      <td>I missed the New Moon trailer...</td>\n",
              "    </tr>\n",
              "    <tr>\n",
              "      <th>2</th>\n",
              "      <td>3</td>\n",
              "      <td>1</td>\n",
              "      <td>omg its already 7:30 :O</td>\n",
              "    </tr>\n",
              "    <tr>\n",
              "      <th>3</th>\n",
              "      <td>4</td>\n",
              "      <td>0</td>\n",
              "      <td>.. Omgaga. Im sooo  im gunna CRy. I've been at this dentist since 11.. I was suposed 2 just get a crown put on (30mins)...</td>\n",
              "    </tr>\n",
              "    <tr>\n",
              "      <th>4</th>\n",
              "      <td>5</td>\n",
              "      <td>0</td>\n",
              "      <td>i think mi bf is cheating on me!!!       T_T</td>\n",
              "    </tr>\n",
              "  </tbody>\n",
              "</table>\n",
              "</div>"
            ],
            "text/plain": [
              "   ItemID  Sentiment  \\\n",
              "0       1          0   \n",
              "1       2          0   \n",
              "2       3          1   \n",
              "3       4          0   \n",
              "4       5          0   \n",
              "\n",
              "                                                                                                                          SentimentText  \n",
              "0                                                                                              is so sad for my APL friend.............  \n",
              "1                                                                                                      I missed the New Moon trailer...  \n",
              "2                                                                                                               omg its already 7:30 :O  \n",
              "3            .. Omgaga. Im sooo  im gunna CRy. I've been at this dentist since 11.. I was suposed 2 just get a crown put on (30mins)...  \n",
              "4                                                                                          i think mi bf is cheating on me!!!       T_T  "
            ]
          },
          "metadata": {
            "tags": []
          },
          "execution_count": 115
        }
      ]
    },
    {
      "cell_type": "markdown",
      "metadata": {
        "id": "IDkJqxnYbPO-",
        "colab_type": "text"
      },
      "source": [
        "-> Für diese Arbeit werde ich nur die Spalten 'SentimentText' und 'Sentiment' (als Label) verwenden"
      ]
    },
    {
      "cell_type": "markdown",
      "metadata": {
        "id": "k9isl4V9bPPA",
        "colab_type": "text"
      },
      "source": [
        "#### Überprüfen der Spalte 'Sentiment' auf NaN-Values"
      ]
    },
    {
      "cell_type": "code",
      "metadata": {
        "id": "VSoIozvdbPPC",
        "colab_type": "code",
        "outputId": "301f321a-ca27-48d4-d318-f4b75737b6bc",
        "colab": {
          "base_uri": "https://localhost:8080/",
          "height": 34
        }
      },
      "source": [
        "# NaN-valu#es\n",
        "print(\"SentimentText, #NaN: \" + str(len(dfTweets) - dfTweets['SentimentText'].count()))"
      ],
      "execution_count": 116,
      "outputs": [
        {
          "output_type": "stream",
          "text": [
            "SentimentText, #NaN: 0\n"
          ],
          "name": "stdout"
        }
      ]
    },
    {
      "cell_type": "markdown",
      "metadata": {
        "id": "z2A3e_lybPPK",
        "colab_type": "text"
      },
      "source": [
        "-> Spalte 'Sentiment' enthält keine NaN-Values"
      ]
    },
    {
      "cell_type": "markdown",
      "metadata": {
        "id": "vn9NUrZ6bPPO",
        "colab_type": "text"
      },
      "source": [
        "#### Wieviele hoch ist der Anteil von positiven (1) / negativen (0) Tweets?"
      ]
    },
    {
      "cell_type": "code",
      "metadata": {
        "id": "8fd6S4gcbPPQ",
        "colab_type": "code",
        "outputId": "a9a8efad-6826-4939-f40e-d9343d68d572",
        "colab": {
          "base_uri": "https://localhost:8080/",
          "height": 51
        }
      },
      "source": [
        "# We construct lists with classified tweets:\n",
        "tweets_pos = [ tweet for index, tweet in enumerate(dfTweets['SentimentText']) if dfTweets['Sentiment'][index] > 0]\n",
        "tweets_neg = [ tweet for index, tweet in enumerate(dfTweets['SentimentText']) if dfTweets['Sentiment'][index] == 0]\n",
        "print(\"Anteil der positiven Tweets: {0:10.1f}%\".format(len(tweets_pos)*100/len(dfTweets['SentimentText'])))\n",
        "print(\"Anteil der negativen Tweets: {0:10.1f}%\".format(len(tweets_neg)*100/len(dfTweets['SentimentText'])))"
      ],
      "execution_count": 117,
      "outputs": [
        {
          "output_type": "stream",
          "text": [
            "Anteil der positiven Tweets:       56.5%\n",
            "Anteil der negativen Tweets:       43.5%\n"
          ],
          "name": "stdout"
        }
      ]
    },
    {
      "cell_type": "markdown",
      "metadata": {
        "id": "zRgBK20ibPPb",
        "colab_type": "text"
      },
      "source": [
        "#### Welches sind die häuftigsten Wörter in den Tweets?"
      ]
    },
    {
      "cell_type": "code",
      "metadata": {
        "id": "ZmCzh9OvbPPd",
        "colab_type": "code",
        "outputId": "55564759-91c5-477f-80db-a8d86834ccd5",
        "colab": {
          "base_uri": "https://localhost:8080/",
          "height": 359
        }
      },
      "source": [
        "# most common words in twitter dataset\n",
        "all_words = []\n",
        "for line in list(dfTweets['SentimentText']):\n",
        "    words = line.split()\n",
        "    for word in words:\n",
        "        all_words.append(word.lower())\n",
        "\n",
        "# plot word frequency distribution of first few words\n",
        "plt.figure(figsize=(12,5))\n",
        "plt.xticks(fontsize=13, rotation=90)\n",
        "fd = nltk.FreqDist(all_words)\n",
        "fd.plot(25,cumulative=False)"
      ],
      "execution_count": 118,
      "outputs": [
        {
          "output_type": "display_data",
          "data": {
            "image/png": "[encoded data removed]",
            "text/plain": [
              "<Figure size 864x360 with 1 Axes>"
            ]
          },
          "metadata": {
            "tags": []
          }
        }
      ]
    },
    {
      "cell_type": "markdown",
      "metadata": {
        "id": "P8EZhQ20bPPn",
        "colab_type": "text"
      },
      "source": [
        "## 3. Splitting Data"
      ]
    },
    {
      "cell_type": "markdown",
      "metadata": {
        "id": "VLj9tr0QbPPq",
        "colab_type": "text"
      },
      "source": [
        "#### Splitten in ein Train- und ein Test-Dataset"
      ]
    },
    {
      "cell_type": "code",
      "metadata": {
        "id": "_bhm1DsQbPPs",
        "colab_type": "code",
        "outputId": "0dc12a09-670a-4526-df9e-db9770bca9a9",
        "colab": {
          "base_uri": "https://localhost:8080/",
          "height": 34
        }
      },
      "source": [
        "from sklearn.model_selection import train_test_split\n",
        "tweets_train, tweets_test, label_train, label_test = train_test_split(dfTweets['SentimentText'], dfTweets['Sentiment'], test_size=0.2, random_state=79)\n",
        "print(len(tweets_train), len(tweets_test), len(tweets_train) + len(tweets_test))"
      ],
      "execution_count": 119,
      "outputs": [
        {
          "output_type": "stream",
          "text": [
            "79991 19998 99989\n"
          ],
          "name": "stdout"
        }
      ]
    },
    {
      "cell_type": "markdown",
      "metadata": {
        "id": "5W-hYOtfbPQJ",
        "colab_type": "text"
      },
      "source": [
        "## 4. Text Preprocessing"
      ]
    },
    {
      "cell_type": "markdown",
      "metadata": {
        "id": "oITNVuLCbPQL",
        "colab_type": "text"
      },
      "source": [
        "#### Als erstes werde ich eine Funktion definieren die folgendes ausführt:\n",
        "- Bereinigen der Tweets (Entfernen von Links / Sonderzeichen / ...)\n",
        "- Entfernen der Stopwords\n",
        "- Lemmatizing\n",
        "- die in einzelne Wörter aufteilten Tweets in einer Liste zurückgibt"
      ]
    },
    {
      "cell_type": "code",
      "metadata": {
        "id": "G-oygSVSbPQP",
        "colab_type": "code",
        "colab": {}
      },
      "source": [
        "# Bereinigen der Tweets\n",
        "from nltk.corpus import stopwords\n",
        "from nltk.tokenize import TweetTokenizer\n",
        "from nltk.stem.wordnet import WordNetLemmatizer\n",
        "def text_preprocess(tweet):\n",
        "    '''\n",
        "    Utility function to\n",
        "     - clean the text in a tweet by removing links and special characters using regex.\n",
        "     - tokenize\n",
        "     - Remove stopwords\n",
        "     - Lemmatize\n",
        "    '''\n",
        "    # Remove HTML special entities (e.g. &amp;)\n",
        "    tweet = re.sub(r'\\&\\w*;', '', tweet)\n",
        "    #Convert @username to AT_USER\n",
        "    tweet = re.sub('@[^\\s]+','',tweet)\n",
        "    # Remove tickers\n",
        "    tweet = re.sub(r'\\$\\w*', '', tweet)\n",
        "    # To lowercase\n",
        "    tweet = tweet.lower()\n",
        "    # Remove hyperlinks\n",
        "    tweet = re.sub(r'https?:\\/\\/.*\\/\\w*', '', tweet)\n",
        "    # Remove hashtags\n",
        "    tweet = re.sub(r'#\\w*', '', tweet)\n",
        "    # Remove Punctuation and split 's, 't, 've with a space for filter\n",
        "    tweet = re.sub(r'[' + string.punctuation.replace('@', '') + ']+', ' ', tweet)\n",
        "    # Remove words with 1 letters\n",
        "    tweet = re.sub(r'\\b\\w{1}\\b', '', tweet)\n",
        "    # Remove whitespace (including new line characters)\n",
        "    tweet = re.sub(r'\\s\\s+', ' ', tweet)\n",
        "    # Remove digits\n",
        "    tweet = re.sub(r\"\\d\", \"\", tweet)\n",
        "    # Remove @-Sign\n",
        "    tweet = re.sub(r\"@\", \"\", tweet)\n",
        "    # Remove single space remaining at the front of the tweet.\n",
        "    tweet = tweet.lstrip(' ') \n",
        "    # Remove characters beyond Basic Multilingual Plane (BMP) of Unicode:\n",
        "    tweet = ''.join(c for c in tweet if c <= '\\uFFFF') \n",
        "    \n",
        "    # tokenize into words\n",
        "    tokens = [word for sent in nltk.sent_tokenize(tweet) for word in nltk.word_tokenize(sent)]\n",
        "\n",
        "    # remove stopwords\n",
        "    stop = stopwords.words('english')\n",
        "    tokens = [token for token in tokens if token not in stop]\n",
        "\n",
        "    # lemmatize\n",
        "    lmtzr = WordNetLemmatizer()\n",
        "    tokens = [lmtzr.lemmatize(word, pos = 'v') for word in tokens]\n",
        "    preprocessed_text = ' '.join(tokens)\n",
        "\n",
        "    return nltk.word_tokenize(preprocessed_text)\n",
        "    return tweet"
      ],
      "execution_count": 0,
      "outputs": []
    },
    {
      "cell_type": "code",
      "metadata": {
        "id": "qTKWTFEMbPQb",
        "colab_type": "code",
        "outputId": "7f63cad2-05b7-4945-9b29-c51ebac09e20",
        "colab": {
          "base_uri": "https://localhost:8080/",
          "height": 119
        }
      },
      "source": [
        "# Check to make sure its working\n",
        "tweets_train.head().apply(text_preprocess)"
      ],
      "execution_count": 121,
      "outputs": [
        {
          "output_type": "execute_result",
          "data": {
            "text/plain": [
              "36286                   [uh, kinda, suck, work, tomorrow]\n",
              "50939               [yay, take, hand, need, update, like]\n",
              "54441    [absolutely, regret, wonderful, colourful, film]\n",
              "52979                  [go, bed, take, care, talk, later]\n",
              "93066                             [oh, crap, feel, sorry]\n",
              "Name: SentimentText, dtype: object"
            ]
          },
          "metadata": {
            "tags": []
          },
          "execution_count": 121
        }
      ]
    },
    {
      "cell_type": "code",
      "metadata": {
        "id": "O4txo_D8bPRC",
        "colab_type": "code",
        "outputId": "103c472e-0a83-4d0f-94a6-d691eee8d310",
        "colab": {
          "base_uri": "https://localhost:8080/",
          "height": 119
        }
      },
      "source": [
        "# Show original dataframe\n",
        "tweets_train.head()"
      ],
      "execution_count": 122,
      "outputs": [
        {
          "output_type": "execute_result",
          "data": {
            "text/plain": [
              "36286                               @alexavenue Uh you kinda suck, I don't work until tomorrow \n",
              "50939                                      @ameeface Yay! Take My Hand needs updating like NOW \n",
              "54441    @baiduyou absolutely you should! You won't regret it - a wonderful and colourful film \n",
              "52979                                @ayudevina going to bed! take care. . . talk to you later \n",
              "93066                                             @ChristaEpiphany oh crap!! I feel sorry 4 u. \n",
              "Name: SentimentText, dtype: object"
            ]
          },
          "metadata": {
            "tags": []
          },
          "execution_count": 122
        }
      ]
    },
    {
      "cell_type": "markdown",
      "metadata": {
        "id": "yqwjHjSlbPRM",
        "colab_type": "text"
      },
      "source": [
        "## 5. Vectorization — (Bag Of Words)"
      ]
    },
    {
      "cell_type": "markdown",
      "metadata": {
        "id": "q9B9hPOwbPRR",
        "colab_type": "text"
      },
      "source": [
        "#### Erzeugen des BOW-Vektor"
      ]
    },
    {
      "cell_type": "code",
      "metadata": {
        "id": "tlPb3Oo3bPRT",
        "colab_type": "code",
        "outputId": "ef1f0cb7-4bc6-4d82-f4cd-e9f9b0bbafc3",
        "colab": {
          "base_uri": "https://localhost:8080/",
          "height": 34
        }
      },
      "source": [
        "from sklearn.feature_extraction.text import CountVectorizer\n",
        "# Fitting CountVectorizer\n",
        "bow_transformer = CountVectorizer(analyzer=text_preprocess).fit(tweets_train)\n",
        "# Print total number of vocab words\n",
        "print(len(bow_transformer.vocabulary_))"
      ],
      "execution_count": 123,
      "outputs": [
        {
          "output_type": "stream",
          "text": [
            "39523\n"
          ],
          "name": "stdout"
        }
      ]
    },
    {
      "cell_type": "markdown",
      "metadata": {
        "id": "Hgb6pbvSvSoB",
        "colab_type": "text"
      },
      "source": [
        "-> Das Vokabular besteht aus ingesamt 39'523 Wörtern"
      ]
    },
    {
      "cell_type": "code",
      "metadata": {
        "id": "8PpZInH-bPRh",
        "colab_type": "code",
        "outputId": "637c44a6-94f1-4c14-f129-9eb8690d1ba8",
        "colab": {
          "base_uri": "https://localhost:8080/",
          "height": 51
        }
      },
      "source": [
        "print(bow_transformer.get_feature_names()[5555])\n",
        "print(bow_transformer.get_feature_names()[6634])"
      ],
      "execution_count": 124,
      "outputs": [
        {
          "output_type": "stream",
          "text": [
            "carr\n",
            "clinch\n"
          ],
          "name": "stdout"
        }
      ]
    },
    {
      "cell_type": "markdown",
      "metadata": {
        "id": "IzXmMfZtbPSN",
        "colab_type": "text"
      },
      "source": [
        "#### Tranformieren aller Tweets"
      ]
    },
    {
      "cell_type": "code",
      "metadata": {
        "id": "syg2k4LKbPSQ",
        "colab_type": "code",
        "colab": {}
      },
      "source": [
        "# Transform the entire DataFrame of messages\n",
        "messages_bow = bow_transformer.transform(tweets_train)"
      ],
      "execution_count": 0,
      "outputs": []
    },
    {
      "cell_type": "code",
      "metadata": {
        "id": "LuOnRv_TbPSX",
        "colab_type": "code",
        "outputId": "5f459c10-203b-4dfe-f66b-15dc5ea478be",
        "colab": {
          "base_uri": "https://localhost:8080/",
          "height": 51
        }
      },
      "source": [
        "# Print the shape\n",
        "print('Shape of Sparse Matrix: ', messages_bow.shape)\n",
        "print('Amount of Non-Zero occurences: ', messages_bow.nnz)"
      ],
      "execution_count": 126,
      "outputs": [
        {
          "output_type": "stream",
          "text": [
            "Shape of Sparse Matrix:  (79991, 39523)\n",
            "Amount of Non-Zero occurences:  502189\n"
          ],
          "name": "stdout"
        }
      ]
    },
    {
      "cell_type": "code",
      "metadata": {
        "id": "k4cBzT6NbPSt",
        "colab_type": "code",
        "outputId": "982d7eea-b7c5-4e7b-adaf-f1611c9f56f3",
        "colab": {
          "base_uri": "https://localhost:8080/",
          "height": 34
        }
      },
      "source": [
        "# Print sparsity (ratio null-Values <> total entries)\n",
        "sparsity = (100.0 * messages_bow.nnz / (messages_bow.shape[0] * messages_bow.shape[1]))\n",
        "print('sparsity: {}'.format(round(sparsity,3)))"
      ],
      "execution_count": 127,
      "outputs": [
        {
          "output_type": "stream",
          "text": [
            "sparsity: 0.016\n"
          ],
          "name": "stdout"
        }
      ]
    },
    {
      "cell_type": "markdown",
      "metadata": {
        "id": "mfkmedXcbPTV",
        "colab_type": "text"
      },
      "source": [
        "## 6. Term Frequency, Inverse Document Frequency"
      ]
    },
    {
      "cell_type": "code",
      "metadata": {
        "id": "LrYrj5e3bPTW",
        "colab_type": "code",
        "colab": {}
      },
      "source": [
        "from sklearn.feature_extraction.text import TfidfTransformer\n",
        "# Fitting TfidfTransformer\n",
        "tfidf_transformer = TfidfTransformer().fit(messages_bow)"
      ],
      "execution_count": 0,
      "outputs": []
    },
    {
      "cell_type": "code",
      "metadata": {
        "id": "GbkGvnlXbPTf",
        "colab_type": "code",
        "outputId": "166d2c8b-e657-4aaf-c76f-1b2b00c3a3a0",
        "colab": {
          "base_uri": "https://localhost:8080/",
          "height": 34
        }
      },
      "source": [
        "# Transform the entire bag-of-words corpus\n",
        "messages_tfidf = tfidf_transformer.transform(messages_bow)\n",
        "print(messages_tfidf.shape)"
      ],
      "execution_count": 129,
      "outputs": [
        {
          "output_type": "stream",
          "text": [
            "(79991, 39523)\n"
          ],
          "name": "stdout"
        }
      ]
    },
    {
      "cell_type": "markdown",
      "metadata": {
        "id": "BXOA_5SFMtU4",
        "colab_type": "text"
      },
      "source": [
        "## brauchts glaub nicht: 7. Pipeline Text Preprocssing"
      ]
    },
    {
      "cell_type": "code",
      "metadata": {
        "id": "aKwpKyAUM26l",
        "colab_type": "code",
        "colab": {}
      },
      "source": [
        "from sklearn.pipeline import Pipeline\n",
        "pipeline_textpreproc = Pipeline([\n",
        "    ('bow', CountVectorizer(analyzer=text_preprocess)),  # strings to token integer counts\n",
        "    ('tfidf', TfidfTransformer()),  # integer counts to weighted TF-IDF scores\n",
        "])\n",
        "# pipeline_textpreproc.fit(tweets_test)\n",
        "# pipeline_textpreproc.transform(tweets_test)\n",
        "# pipeline_textpreproc.fit_transform(tweets_test)"
      ],
      "execution_count": 0,
      "outputs": []
    },
    {
      "cell_type": "markdown",
      "metadata": {
        "id": "7u_v5SKAbPT7",
        "colab_type": "text"
      },
      "source": [
        "## 7. Evaluating different Models with Cross-validation"
      ]
    },
    {
      "cell_type": "code",
      "metadata": {
        "id": "M4-UZxnvbPT9",
        "colab_type": "code",
        "outputId": "a5762d23-425b-46b6-ebc5-d2c167288fbe",
        "colab": {
          "base_uri": "https://localhost:8080/",
          "height": 379
        }
      },
      "source": [
        "# prepare configuration for cross validation test harness\n",
        "from sklearn.linear_model import LogisticRegression\n",
        "from sklearn.neighbors import KNeighborsClassifier\n",
        "from sklearn.tree import DecisionTreeClassifier\n",
        "from sklearn.ensemble import RandomForestClassifier\n",
        "from sklearn.naive_bayes import MultinomialNB\n",
        "from sklearn.model_selection import KFold, cross_val_score\n",
        "seed = 7\n",
        "\n",
        "# prepare models\n",
        "models = []\n",
        "models.append(('LogReg', LogisticRegression()))\n",
        "models.append(('KNN', KNeighborsClassifier()))\n",
        "models.append(('DecTree', DecisionTreeClassifier()))\n",
        "models.append(('RandForr', RandomForestClassifier()))\n",
        "models.append(('NB', MultinomialNB()))\n",
        "\n",
        "# evaluate each model in turn\n",
        "results = []\n",
        "names = []\n",
        "scoring = 'accuracy'\n",
        "for name, model in models:\n",
        "    kfold = KFold(n_splits=10, random_state=seed)\n",
        "    cv_results = cross_val_score(model, messages_tfidf, label_train, cv=kfold, scoring=scoring)\n",
        "    results.append(cv_results)\n",
        "    names.append(name)\n",
        "    msg = \"%s: %f (%f)\" % (name, cv_results.mean(), cv_results.std())\n",
        "    print(msg)\n",
        "\n",
        "# boxplot algorithm comparison\n",
        "fig = plt.figure()\n",
        "fig.suptitle('Algorithm Comparison')\n",
        "ax = fig.add_subplot(111)\n",
        "plt.boxplot(results)\n",
        "ax.set_xticklabels(names)\n",
        "plt.show()"
      ],
      "execution_count": 130,
      "outputs": [
        {
          "output_type": "stream",
          "text": [
            "LogReg: 0.743396 (0.004870)\n",
            "KNN: 0.586754 (0.006307)\n",
            "DecTree: 0.679126 (0.003947)\n",
            "RandForr: 0.708742 (0.002535)\n",
            "NB: 0.726932 (0.006806)\n"
          ],
          "name": "stdout"
        },
        {
          "output_type": "display_data",
          "data": {
            "image/png": "[encoded data removed]",
            "text/plain": [
              "<Figure size 432x288 with 1 Axes>"
            ]
          },
          "metadata": {
            "tags": []
          }
        }
      ]
    },
    {
      "cell_type": "markdown",
      "metadata": {
        "id": "x5mBBZiJyfGn",
        "colab_type": "text"
      },
      "source": [
        "-> LogisticRegression & MultinomialNB haben die höchste Accuracy und werden weiter verfolgt"
      ]
    },
    {
      "cell_type": "markdown",
      "metadata": {
        "id": "lv0Nm27XbPUG",
        "colab_type": "text"
      },
      "source": [
        "## 8. Tuning selected Model with GridSearchCV"
      ]
    },
    {
      "cell_type": "markdown",
      "metadata": {
        "id": "1JaxF7THbPVK",
        "colab_type": "text"
      },
      "source": [
        "#### LogisticRegression - GridSearchCV"
      ]
    },
    {
      "cell_type": "code",
      "metadata": {
        "id": "38Exj0GobPVM",
        "colab_type": "code",
        "colab": {}
      },
      "source": [
        "# create pipeline for GridSearchCV on LogisticRegression\n",
        "from sklearn.linear_model import LogisticRegression\n",
        "from sklearn.pipeline import Pipeline\n",
        "from sklearn.model_selection import GridSearchCV\n",
        "from sklearn.externals import joblib\n",
        "\n",
        "pipeline_logr = Pipeline([\n",
        "    ('bow', CountVectorizer(analyzer=text_preprocess)),  # strings to token integer counts\n",
        "    ('tfidf', TfidfTransformer()),                       # integer counts to weighted TF-IDF scores\n",
        "    ('logr', LogisticRegression()),                      # train on TF-IDF vectors with LogisticRegression classifier\n",
        "])\n",
        "\n",
        "# this is where we define the values for GridSearchCV to iterate over\n",
        "parameters = {\n",
        "              'logr__penalty': ['l1', 'l2']\n",
        "             ,'logr__C': [0.001, 0.01, 0.1, 1, 10, 100]\n",
        "             }\n",
        "\n",
        "# do 5-fold cross validation for each of the possible combinations of the above params\n",
        "grid_logr = GridSearchCV(pipeline_logr, cv=5, param_grid=parameters, verbose=1, n_jobs=4)\n",
        "grid_logr.fit(tweets_train,label_train)\n",
        "\n",
        "# summarize results\n",
        "print(\"\\nBest Model: %f using %s\" % (grid_logr.best_score_, grid_logr.best_params_))\n",
        "print('\\n')\n",
        "means = grid_logr.cv_results_['mean_test_score']\n",
        "stds = grid_logr.cv_results_['std_test_score']\n",
        "params = grid_logr.cv_results_['params']\n",
        "for mean, stdev, param in zip(means, stds, params):\n",
        "    print(\"Mean: %f Stdev:(%f) with: %r\" % (mean, stdev, param))\n",
        "\n",
        "# select best model\n",
        "model_mnb = grid_logr.best_estimator_\n",
        "# save best model to a File\n",
        "joblib.dump(grid_logr.best_estimator_, '/content/gdrive/My Drive/data/TweetsSentiment_logr_clf.pkl', compress = 1)"
      ],
      "execution_count": 0,
      "outputs": []
    },
    {
      "cell_type": "markdown",
      "metadata": {
        "id": "UZjoKaH6bPUI",
        "colab_type": "text"
      },
      "source": [
        "#### MultinomialNB - GridSearchCV"
      ]
    },
    {
      "cell_type": "code",
      "metadata": {
        "id": "bq3BdtddbPUJ",
        "colab_type": "code",
        "colab": {}
      },
      "source": [
        "# create pipeline\n",
        "from sklearn.naive_bayes import MultinomialNB\n",
        "from sklearn.pipeline import Pipeline\n",
        "from sklearn.model_selection import GridSearchCV\n",
        "from sklearn.externals import joblib\n",
        "\n",
        "pipeline_mnb = Pipeline([\n",
        "    ('bow', CountVectorizer(analyzer=text_preprocess)),  # strings to token integer counts\n",
        "    ('tfidf', TfidfTransformer()),                       # integer counts to weighted TF-IDF scores\n",
        "    ('mnb', MultinomialNB()),                            # train on TF-IDF vectors with NaiveBayes classifier\n",
        "])\n",
        "\n",
        "# this is where we define the values for GridSearchCV to iterate over\n",
        "parameters = {\n",
        "               'mnb__fit_prior': [True, False]\n",
        "              ,'mnb__alpha': [0.01, 0.1, 1, 10]\n",
        "             }\n",
        "\n",
        "# do 5-fold cross validation for each of the possible combinations of the above params\n",
        "grid_mnb = GridSearchCV(pipeline_mnb, cv=5, param_grid=parameters, verbose=1, n_jobs=4)\n",
        "grid_mnb.fit(tweets_train,label_train)\n",
        "\n",
        "# summarize results\n",
        "print(\"\\nBest Model: %f using %s\" % (grid_mnb.best_score_, grid_mnb.best_params_))\n",
        "print('\\n')\n",
        "means = grid_mnb.cv_results_['mean_test_score']\n",
        "stds = grid_mnb.cv_results_['std_test_score']\n",
        "params = grid_mnb.cv_results_['params']\n",
        "for mean, stdev, param in zip(means, stds, params):\n",
        "    print(\"Mean: %f Stdev:(%f) with: %r\" % (mean, stdev, param))\n",
        "\n",
        "# select best model\n",
        "model_mnb = grid_mnb.best_estimator_\n",
        "# save best model to a File\n",
        "joblib.dump(grid_mnb.best_estimator_, '/content/gdrive/My Drive/data/TweetsSentiment_mnb_clf.pkl', compress = 1)"
      ],
      "execution_count": 0,
      "outputs": []
    },
    {
      "cell_type": "markdown",
      "metadata": {
        "id": "ezxT9GXibPVd",
        "colab_type": "text"
      },
      "source": [
        "## 9. Final Model Evaluation on Test Data"
      ]
    },
    {
      "cell_type": "markdown",
      "metadata": {
        "id": "_F7sVr7z9m0W",
        "colab_type": "text"
      },
      "source": [
        "### LogisticRegression - Evaluating Model"
      ]
    },
    {
      "cell_type": "markdown",
      "metadata": {
        "id": "4pZ-k7-xyMtk",
        "colab_type": "text"
      },
      "source": [
        "#### accuracy, confusion_matrix & classification_report"
      ]
    },
    {
      "cell_type": "code",
      "metadata": {
        "id": "gaMCSoGL9IC5",
        "colab_type": "code",
        "colab": {}
      },
      "source": [
        "from sklearn.metrics import  accuracy_score, confusion_matrix, classification_report\n",
        "from sklearn.externals import joblib\n",
        "### load from file and predict using the best config found in the CV step\n",
        "### if needed: model_logr = joblib.load('/content/gdrive/My Drive/data/TweetsSentiment_logr_clf.pkl')\n",
        "print('Model: ')\n",
        "print(model_logr)\n",
        "print('\\n')\n",
        "# get predictions from best model above\n",
        "label_preds = model_logr.predict(tweets_test)\n",
        "print('\\n')      \n",
        "print('accuracy score: ',round(accuracy_score(label_test, label_preds),2))\n",
        "print('\\n')\n",
        "print('confusion matrix: \\n',confusion_matrix(label_test, label_preds))\n",
        "print('\\n')\n",
        "print(classification_report(label_test, label_preds))"
      ],
      "execution_count": 0,
      "outputs": []
    },
    {
      "cell_type": "markdown",
      "metadata": {
        "id": "naIbZ18nx0p3",
        "colab_type": "text"
      },
      "source": [
        "#### ROC"
      ]
    },
    {
      "cell_type": "code",
      "metadata": {
        "id": "YdziLp0Wt3YD",
        "colab_type": "code",
        "colab": {}
      },
      "source": [
        "import scikitplot as skplt\n",
        "# get prediction probabilities\n",
        "label_preds_proba = model_logr.predict_proba(tweets_test)\n",
        "# plot ROC-curve\n",
        "skplt.metrics.plot_roc_curve(label_test, label_preds_proba)\n",
        "plt.show()"
      ],
      "execution_count": 0,
      "outputs": []
    },
    {
      "cell_type": "markdown",
      "metadata": {
        "id": "sW4rf7uk-CLT",
        "colab_type": "text"
      },
      "source": [
        "### MultinomialNB - Evaluating Model"
      ]
    },
    {
      "cell_type": "markdown",
      "metadata": {
        "id": "0M0_gK7qyFQg",
        "colab_type": "text"
      },
      "source": [
        "#### accuracy, confusion_matrix & classification_report"
      ]
    },
    {
      "cell_type": "code",
      "metadata": {
        "id": "Ei9bOFCt-GsM",
        "colab_type": "code",
        "colab": {}
      },
      "source": [
        "from sklearn.metrics import  accuracy_score, confusion_matrix, classification_report\n",
        "from sklearn.externals import joblib\n",
        "### load from file and predict using the best configs found in the CV step\n",
        "### if needed: model_mnb = joblib.load('/content/gdrive/My Drive/data/TweetsSentiment_mnb_clf.pkl')\n",
        "print('Model: ')\n",
        "print(model_mnb)\n",
        "print('\\n')\n",
        "# get predictions from best model above\n",
        "label_preds = model_mnb.predict(tweets_test)\n",
        "print('\\n')                    \n",
        "print('accuracy score: ',round(accuracy_score(label_test, label_preds),2))\n",
        "print('\\n')\n",
        "print('confusion matrix: \\n',confusion_matrix(label_test, label_preds))\n",
        "print('\\n')\n",
        "print(classification_report(label_test, label_preds))"
      ],
      "execution_count": 0,
      "outputs": []
    },
    {
      "cell_type": "markdown",
      "metadata": {
        "id": "1t1Oe5x5x7Cn",
        "colab_type": "text"
      },
      "source": [
        "#### ROC"
      ]
    },
    {
      "cell_type": "code",
      "metadata": {
        "id": "9QUJiCFluS4V",
        "colab_type": "code",
        "colab": {}
      },
      "source": [
        "import scikitplot as skplt\n",
        "# get prediction probabilities\n",
        "label_preds_proba = model_mnb.predict_proba(tweets_test)\n",
        "# plot ROC-curve\n",
        "skplt.metrics.plot_roc_curve(label_test, label_preds_proba)\n",
        "plt.show()"
      ],
      "execution_count": 0,
      "outputs": []
    }
  ]
}